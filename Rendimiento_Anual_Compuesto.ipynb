{
  "nbformat": 4,
  "nbformat_minor": 0,
  "metadata": {
    "colab": {
      "provenance": [],
      "toc_visible": true
    },
    "kernelspec": {
      "name": "python3",
      "display_name": "Python 3"
    },
    "language_info": {
      "name": "python"
    }
  },
  "cells": [
    {
      "cell_type": "code",
      "execution_count": null,
      "metadata": {
        "colab": {
          "base_uri": "https://localhost:8080/"
        },
        "id": "KOMH8NXfoYJo",
        "outputId": "13fe3546-e400-42bf-ed9e-0747263cade4"
      },
      "outputs": [
        {
          "output_type": "stream",
          "name": "stdout",
          "text": [
            "🔁 Rendimiento real del período: 2.53%\n",
            "📈 Rendimiento anualizado acumulado: 10.50%\n"
          ]
        }
      ],
      "source": [
        "rendimientos_anual = [10.38, 10.01, 9.69]  # en porcentaje\n",
        "\n",
        "# Convertimos a decimal mensual\n",
        "rendimientos_mensual = [r / 100 / 12 for r in rendimientos_anual]\n",
        "\n",
        "# Interés compuesto acumulado\n",
        "acumulado = 1\n",
        "for r in rendimientos_mensual:\n",
        "    acumulado *= (1 + r)\n",
        "\n",
        "# Rendimiento anualizado del período\n",
        "rendimiento_acumulado_anualizado = (acumulado ** (12 / len(rendimientos_mensual))) - 1\n",
        "rendimiento_periodo_real = acumulado - 1\n",
        "\n",
        "print(f\"🔁 Rendimiento real del período: {rendimiento_periodo_real * 100:.2f}%\")\n",
        "print(f\"📈 Rendimiento anualizado acumulado: {rendimiento_acumulado_anualizado * 100:.2f}%\")"
      ]
    }
  ]
}